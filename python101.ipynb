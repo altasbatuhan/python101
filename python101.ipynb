{
 "cells": [
  {
   "cell_type": "markdown",
   "id": "354f2c5e-6780-44c2-a051-c8b386c8b66d",
   "metadata": {},
   "source": [
    "# Python 101? "
   ]
  },
  {
   "cell_type": "markdown",
   "id": "ae3c0b28-7c23-4cb9-aca4-e3667dc39b8a",
   "metadata": {},
   "source": [
    "## Introduction\n",
    "Welcome to Python 101! This course is designed to introduce you to the basics of Python programming. By the end of this session, you will have a foundational understanding of Python and its core concepts.\n",
    "\n",
    "---\n",
    "\n"
   ]
  },
  {
   "cell_type": "markdown",
   "id": "2e7b7643-4983-441b-98a8-6380258de28d",
   "metadata": {},
   "source": [
    "## What is Python?\n",
    "Python is a versatile and powerful programming language known for its readability and simplicity. It's widely used in web development, data analysis, artificial intelligence, scientific computing, and more.\n",
    "\n",
    "---\n"
   ]
  },
  {
   "cell_type": "markdown",
   "id": "ffdd3d3d-d9af-4693-a299-0b6451a8cea2",
   "metadata": {
    "jp-MarkdownHeadingCollapsed": true
   },
   "source": [
    "\n",
    "## Installing Packages with pip\n",
    "Python's package manager, `pip`, allows you to install additional libraries that expand Python's capabilities. \n",
    "\n",
    "For example, to install the popular library NumPy, you can run the following command in a Jupyter Notebook cell:\n",
    "\n",
    "```python\n",
    "!pip install numpy"
   ]
  },
  {
   "cell_type": "markdown",
   "id": "cf12c9b2-e18a-4be7-a7da-62e608c6b811",
   "metadata": {
    "jp-MarkdownHeadingCollapsed": true
   },
   "source": [
    "## Python Data Types\n"
   ]
  },
  {
   "cell_type": "markdown",
   "id": "174a5f1b-e4be-4ba5-a777-8c3d5a88147c",
   "metadata": {},
   "source": [
    "Python has the following built-in data types:\n",
    "\n",
    "- **Text Type**: `str`\n",
    "- **Numeric Types**: `int`, `float`, `complex`\n",
    "- **Sequence Types**: `list`, `tuple`, `range`\n",
    "- **Mapping Type**: `dict`\n",
    "- **Set Types**: `set`, `frozenset`\n",
    "- **Boolean Type**: `bool`\n",
    "- **Binary Types**: `bytes`, `bytearray`, `memoryview`\n",
    "- **None Type**: `NoneType`\n"
   ]
  },
  {
   "cell_type": "code",
   "execution_count": 32,
   "id": "367661b6-59d5-4d2a-9f2b-c0ee6e5e5ab0",
   "metadata": {},
   "outputs": [
    {
     "name": "stdout",
     "output_type": "stream",
     "text": [
      "<class 'int'>\n"
     ]
    }
   ],
   "source": [
    "# Getting the Data Type\n",
    "x = 5\n",
    "print(type(x))"
   ]
  },
  {
   "cell_type": "markdown",
   "id": "ec016009-eeb4-4f20-80f1-97bb9f562771",
   "metadata": {
    "jp-MarkdownHeadingCollapsed": true
   },
   "source": [
    "## Basic Data Structures\n"
   ]
  },
  {
   "cell_type": "markdown",
   "id": "a4e24384-db4c-4724-a057-4ad49b93ea6d",
   "metadata": {
    "jp-MarkdownHeadingCollapsed": true
   },
   "source": [
    "### Lists\n",
    "Lists are ordered collections that can hold a variety of data types. They are mutable, meaning you can change their content.\n"
   ]
  },
  {
   "cell_type": "code",
   "execution_count": 6,
   "id": "7acad7f2-af0e-4463-a51a-178a13f1a2b3",
   "metadata": {},
   "outputs": [
    {
     "name": "stdout",
     "output_type": "stream",
     "text": [
      "Original List: [1, 2, 3, 4, 5]\n"
     ]
    }
   ],
   "source": [
    "# Creating a list\n",
    "my_list = [1, 2, 3, 4, 5]\n",
    "print(\"Original List:\", my_list)"
   ]
  },
  {
   "cell_type": "code",
   "execution_count": 7,
   "id": "b5cdd543-1cee-4db5-8b41-9a4f4612de6a",
   "metadata": {},
   "outputs": [
    {
     "name": "stdout",
     "output_type": "stream",
     "text": [
      "List after adding an element: [1, 2, 3, 4, 5, 6]\n"
     ]
    }
   ],
   "source": [
    "# Adding an element to the list\n",
    "my_list.append(6)\n",
    "print(\"List after adding an element:\", my_list)"
   ]
  },
  {
   "cell_type": "code",
   "execution_count": 8,
   "id": "1018f13b-2ed8-45dd-90d9-e33d04f36170",
   "metadata": {},
   "outputs": [
    {
     "name": "stdout",
     "output_type": "stream",
     "text": [
      "List after removing an element: [1, 3, 4, 5, 6]\n"
     ]
    }
   ],
   "source": [
    "# Removing an element from the list\n",
    "my_list.remove(2)\n",
    "print(\"List after removing an element:\", my_list)"
   ]
  },
  {
   "cell_type": "code",
   "execution_count": 9,
   "id": "37076f61-944e-4017-85f8-76c18b3e8289",
   "metadata": {},
   "outputs": [
    {
     "name": "stdout",
     "output_type": "stream",
     "text": [
      "First element in the list: 1\n"
     ]
    }
   ],
   "source": [
    "# Accessing an element by index\n",
    "first_element = my_list[0]\n",
    "print(\"First element in the list:\", first_element)"
   ]
  },
  {
   "cell_type": "code",
   "execution_count": 10,
   "id": "670e2144-8d23-4ff3-8f32-d07025eaef5a",
   "metadata": {},
   "outputs": [
    {
     "name": "stdout",
     "output_type": "stream",
     "text": [
      "Sliced List (index 1 to 2): [3, 4]\n"
     ]
    }
   ],
   "source": [
    "# Slicing the list\n",
    "sub_list = my_list[1:3]  # Get elements from index 1 to 2\n",
    "print(\"Sliced List (index 1 to 2):\", sub_list)"
   ]
  },
  {
   "cell_type": "markdown",
   "id": "a8f6e1cc-535e-4c48-81bb-c3a3bc5f4e77",
   "metadata": {
    "jp-MarkdownHeadingCollapsed": true
   },
   "source": [
    "### Dictionaries\n",
    "Dictionaries store data in key-value pairs, allowing for fast lookups. Each key is unique, and you can access values using their corresponding keys."
   ]
  },
  {
   "cell_type": "code",
   "execution_count": 11,
   "id": "92854bc8-0337-4aae-a74e-55ac2c1aa38f",
   "metadata": {},
   "outputs": [
    {
     "name": "stdout",
     "output_type": "stream",
     "text": [
      "Original Dictionary: {'name': 'Ali', 'age': 25, 'city': 'Ankara'}\n"
     ]
    }
   ],
   "source": [
    "# Creating a dictionary\n",
    "my_dict = {'name': 'Ali', 'age': 25, 'city': 'Ankara'}\n",
    "print(\"Original Dictionary:\", my_dict)"
   ]
  },
  {
   "cell_type": "code",
   "execution_count": 12,
   "id": "6bb043c5-9873-467f-ac3a-92493bbcf49f",
   "metadata": {},
   "outputs": [
    {
     "name": "stdout",
     "output_type": "stream",
     "text": [
      "Name: Ali\n"
     ]
    }
   ],
   "source": [
    "# Accessing a value by key\n",
    "name = my_dict['name']\n",
    "print(\"Name:\", name)"
   ]
  },
  {
   "cell_type": "code",
   "execution_count": 13,
   "id": "ee7cbe86-7cd8-4a3e-adcf-2be5f5d49251",
   "metadata": {},
   "outputs": [
    {
     "name": "stdout",
     "output_type": "stream",
     "text": [
      "Dictionary after adding a new entry: {'name': 'Ali', 'age': 25, 'city': 'Ankara', 'job': 'Software Engineer'}\n"
     ]
    }
   ],
   "source": [
    "# Adding a new key-value pair\n",
    "my_dict['job'] = 'Software Engineer'\n",
    "print(\"Dictionary after adding a new entry:\", my_dict)"
   ]
  },
  {
   "cell_type": "code",
   "execution_count": 14,
   "id": "aa08a240-4331-4d8f-b093-d7feab84df36",
   "metadata": {},
   "outputs": [
    {
     "name": "stdout",
     "output_type": "stream",
     "text": [
      "Dictionary after removing an entry: {'name': 'Ali', 'city': 'Ankara', 'job': 'Software Engineer'}\n"
     ]
    }
   ],
   "source": [
    "# Removing a key-value pair\n",
    "del my_dict['age']\n",
    "print(\"Dictionary after removing an entry:\", my_dict)"
   ]
  },
  {
   "cell_type": "code",
   "execution_count": 15,
   "id": "9d87a2b4-bc85-44e9-8518-edd49d04743e",
   "metadata": {},
   "outputs": [
    {
     "name": "stdout",
     "output_type": "stream",
     "text": [
      "City exists in the dictionary.\n"
     ]
    }
   ],
   "source": [
    "# Checking if a key exists\n",
    "if 'city' in my_dict:\n",
    "    print(\"City exists in the dictionary.\")"
   ]
  },
  {
   "cell_type": "markdown",
   "id": "37be0055-86e2-43df-b55c-785859cd09b7",
   "metadata": {
    "jp-MarkdownHeadingCollapsed": true
   },
   "source": [
    "### Sets\r\n",
    "Sets are unordered collections of unique elements. They are useful for membership testing and eliminating duplicate entries."
   ]
  },
  {
   "cell_type": "code",
   "execution_count": 16,
   "id": "c6585721-05dc-4513-bf04-0184095a5dde",
   "metadata": {},
   "outputs": [
    {
     "name": "stdout",
     "output_type": "stream",
     "text": [
      "Original Set: {1, 2, 3, 4}\n"
     ]
    }
   ],
   "source": [
    "# Creating a set\n",
    "my_set = {1, 2, 3, 4, 4}  # Duplicates will be ignored\n",
    "print(\"Original Set:\", my_set)"
   ]
  },
  {
   "cell_type": "code",
   "execution_count": 17,
   "id": "27557298-c53e-47b5-9eec-94525bd6ff99",
   "metadata": {},
   "outputs": [
    {
     "name": "stdout",
     "output_type": "stream",
     "text": [
      "Set after adding an element: {1, 2, 3, 4, 5}\n"
     ]
    }
   ],
   "source": [
    "# Adding an element to the set\n",
    "my_set.add(5)\n",
    "print(\"Set after adding an element:\", my_set)"
   ]
  },
  {
   "cell_type": "code",
   "execution_count": 18,
   "id": "f2da3bbc-f9a3-4c82-add7-b03ca81504d9",
   "metadata": {},
   "outputs": [
    {
     "name": "stdout",
     "output_type": "stream",
     "text": [
      "Set after removing an element: {1, 3, 4, 5}\n"
     ]
    }
   ],
   "source": [
    "# Removing an element from the set\n",
    "my_set.remove(2)\n",
    "print(\"Set after removing an element:\", my_set)"
   ]
  },
  {
   "cell_type": "code",
   "execution_count": 19,
   "id": "ee9fea41-99e2-468d-b6dd-425bd1d15676",
   "metadata": {},
   "outputs": [
    {
     "name": "stdout",
     "output_type": "stream",
     "text": [
      "3 is in the set.\n"
     ]
    }
   ],
   "source": [
    "# Checking membership\n",
    "if 3 in my_set:\n",
    "    print(\"3 is in the set.\")\n",
    "else:\n",
    "    print(\"3 is not in the set.\")"
   ]
  },
  {
   "cell_type": "markdown",
   "id": "27659584-95ba-46e3-8b43-64b6a913a74e",
   "metadata": {
    "jp-MarkdownHeadingCollapsed": true
   },
   "source": [
    "### Tuples\n",
    "Tuples are ordered collections that are immutable, meaning once they are created, their content cannot be changed. They are useful for fixed collections of items."
   ]
  },
  {
   "cell_type": "code",
   "execution_count": 20,
   "id": "7a69a95f-7e6c-44c6-9c67-33040b7daba6",
   "metadata": {},
   "outputs": [
    {
     "name": "stdout",
     "output_type": "stream",
     "text": [
      "Original Tuple: (1, 2, 3)\n"
     ]
    }
   ],
   "source": [
    "# Creating a tuple\n",
    "my_tuple = (1, 2, 3)\n",
    "print(\"Original Tuple:\", my_tuple)\n"
   ]
  },
  {
   "cell_type": "code",
   "execution_count": 21,
   "id": "efb278a7-c263-40e4-a885-a4f165c8404e",
   "metadata": {},
   "outputs": [
    {
     "name": "stdout",
     "output_type": "stream",
     "text": [
      "First element in the tuple: 1\n"
     ]
    }
   ],
   "source": [
    "# Accessing elements by index\n",
    "first_element = my_tuple[0]\n",
    "print(\"First element in the tuple:\", first_element)"
   ]
  },
  {
   "cell_type": "code",
   "execution_count": 22,
   "id": "c8fc9bec-7830-45a8-8d94-6b042b57a9d1",
   "metadata": {},
   "outputs": [
    {
     "name": "stdout",
     "output_type": "stream",
     "text": [
      "Sliced Tuple (index 1 to 2): (2, 3)\n"
     ]
    }
   ],
   "source": [
    "# Slicing the tuple\n",
    "sub_tuple = my_tuple[1:3]  # Get elements from index 1 to 2\n",
    "print(\"Sliced Tuple (index 1 to 2):\", sub_tuple)"
   ]
  },
  {
   "cell_type": "code",
   "execution_count": 23,
   "id": "ef39f992-0c34-4ad0-88af-0ddb557c99dc",
   "metadata": {},
   "outputs": [
    {
     "ename": "TypeError",
     "evalue": "'tuple' object does not support item assignment",
     "output_type": "error",
     "traceback": [
      "\u001b[0;31m---------------------------------------------------------------------------\u001b[0m",
      "\u001b[0;31mTypeError\u001b[0m                                 Traceback (most recent call last)",
      "Cell \u001b[0;32mIn[23], line 2\u001b[0m\n\u001b[1;32m      1\u001b[0m \u001b[38;5;66;03m# Attempting to modify a tuple (this will cause an error)\u001b[39;00m\n\u001b[0;32m----> 2\u001b[0m \u001b[43mmy_tuple\u001b[49m\u001b[43m[\u001b[49m\u001b[38;5;241;43m0\u001b[39;49m\u001b[43m]\u001b[49m \u001b[38;5;241m=\u001b[39m \u001b[38;5;241m10\u001b[39m  \u001b[38;5;66;03m# Uncommenting this line will raise a TypeError\u001b[39;00m\n",
      "\u001b[0;31mTypeError\u001b[0m: 'tuple' object does not support item assignment"
     ]
    }
   ],
   "source": [
    "# Attempting to modify a tuple (this will cause an error)\n",
    "my_tuple[0] = 10  # Uncommenting this line will raise a TypeError"
   ]
  },
  {
   "cell_type": "markdown",
   "id": "2568f35f-6c27-42a3-a0bd-41b24d6f1b4d",
   "metadata": {
    "jp-MarkdownHeadingCollapsed": true
   },
   "source": [
    "## Logical Conditions in Python\n"
   ]
  },
  {
   "cell_type": "markdown",
   "id": "bd4fee5a-cdeb-4ef3-be7b-f869cf9d90e6",
   "metadata": {},
   "source": [
    "\n",
    "Python supports the usual logical conditions from mathematics:\n",
    "\n",
    "* **Equals:** `a == b`\n",
    "* **Not Equals:** `a != b`\n",
    "* **Less than:** `a < b`\n",
    "* **Less than or equal to:** `a <= b`\n",
    "* **Greater than:** `a > b`\n",
    "* **Greater than or equal to:** `a >= b`\n",
    "\n",
    "These conditions can be used in several ways, most commonly in \"if statements\" and loops."
   ]
  },
  {
   "cell_type": "markdown",
   "id": "9b850cbb-2db5-4cf6-b139-b009e5ead3bc",
   "metadata": {
    "jp-MarkdownHeadingCollapsed": true
   },
   "source": [
    "### If Statements\n",
    "\n"
   ]
  },
  {
   "cell_type": "markdown",
   "id": "64bb1fe5-3172-46e4-9af6-f05c7ec0e5af",
   "metadata": {},
   "source": [
    "`if` statements allow you to execute code conditionally based on whether a specified condition is `True` or `False`."
   ]
  },
  {
   "cell_type": "code",
   "execution_count": 24,
   "id": "902a2ac5-bcc5-4673-a10b-dcb05fa6178d",
   "metadata": {},
   "outputs": [
    {
     "name": "stdout",
     "output_type": "stream",
     "text": [
      "You just became an adult!\n"
     ]
    }
   ],
   "source": [
    "# Example of if statements\n",
    "age = 18\n",
    "\n",
    "if age < 18:\n",
    "    print(\"You are a minor.\")\n",
    "elif age == 18:\n",
    "    print(\"You just became an adult!\")\n",
    "else:\n",
    "    print(\"You are an adult.\")"
   ]
  },
  {
   "cell_type": "markdown",
   "id": "94c7fb99-4274-4426-bffb-e0401d3693c1",
   "metadata": {
    "jp-MarkdownHeadingCollapsed": true
   },
   "source": [
    "### For Loops\n"
   ]
  },
  {
   "cell_type": "markdown",
   "id": "a5bb13e9-9ba2-4459-8b43-77c61fd240bc",
   "metadata": {},
   "source": [
    "`for` loops are used to iterate over a sequence (like a list, tuple, string, or range)."
   ]
  },
  {
   "cell_type": "code",
   "execution_count": 26,
   "id": "f83dc430-1df3-4db0-9a97-02d8fd9a29df",
   "metadata": {},
   "outputs": [
    {
     "name": "stdout",
     "output_type": "stream",
     "text": [
      "I like apple.\n",
      "I like banana.\n",
      "I like cherry.\n"
     ]
    }
   ],
   "source": [
    "# Example of a for loop\n",
    "fruits = [\"apple\", \"banana\", \"cherry\"]\n",
    "\n",
    "for fruit in fruits:\n",
    "    print(f\"I like {fruit}.\")"
   ]
  },
  {
   "cell_type": "markdown",
   "id": "e3396f35-ee33-45d8-aaf7-bf21db7be9e0",
   "metadata": {
    "jp-MarkdownHeadingCollapsed": true
   },
   "source": [
    "### While Loops\n"
   ]
  },
  {
   "cell_type": "markdown",
   "id": "67973898-ef4b-4fae-8b93-c2cb756a6bac",
   "metadata": {},
   "source": [
    "`while` loops continue to execute as long as a specified condition is True."
   ]
  },
  {
   "cell_type": "code",
   "execution_count": 28,
   "id": "541fe367-6e63-4e69-8a28-a286e3876fd9",
   "metadata": {},
   "outputs": [
    {
     "name": "stdout",
     "output_type": "stream",
     "text": [
      "Count is: 0\n",
      "Count is: 1\n",
      "Count is: 2\n",
      "Count is: 3\n",
      "Count is: 4\n"
     ]
    }
   ],
   "source": [
    "# Example of a while loop\n",
    "count = 0\n",
    "\n",
    "while count < 5:\n",
    "    print(\"Count is:\", count)\n",
    "    count += 1  # Increment count\n"
   ]
  },
  {
   "cell_type": "markdown",
   "id": "db1fbb81-c127-46b2-a03f-b69a7de2f32f",
   "metadata": {
    "jp-MarkdownHeadingCollapsed": true
   },
   "source": [
    "### Break and Continue Statements\n"
   ]
  },
  {
   "cell_type": "markdown",
   "id": "5bebbaeb-9a5f-4221-b93a-f75039272b6b",
   "metadata": {},
   "source": [
    "`break` and `continue` allow you to alter the flow of loops.\n",
    "\n",
    "break: Exits the loop entirely.\n",
    "\n",
    "continue: Skips the current iteration and moves to the next one."
   ]
  },
  {
   "cell_type": "code",
   "execution_count": 29,
   "id": "4a8cad3b-a4ad-4c1c-9106-0f9a1d64c424",
   "metadata": {},
   "outputs": [
    {
     "name": "stdout",
     "output_type": "stream",
     "text": [
      "Current number: 1\n",
      "Current number: 3\n",
      "Breaking the loop at 5.\n"
     ]
    }
   ],
   "source": [
    "# Example of break and continue\n",
    "for i in range(10):\n",
    "    if i == 5:\n",
    "        print(\"Breaking the loop at 5.\")\n",
    "        break\n",
    "    if i % 2 == 0:\n",
    "        continue  # Skip even numbers\n",
    "    print(\"Current number:\", i)\n"
   ]
  },
  {
   "cell_type": "markdown",
   "id": "fa99fd52-522c-413f-a08e-f9e634b75507",
   "metadata": {
    "jp-MarkdownHeadingCollapsed": true
   },
   "source": [
    "## Functions\n"
   ]
  },
  {
   "cell_type": "markdown",
   "id": "980a3292-16a2-4076-9931-e52a88d59131",
   "metadata": {},
   "source": [
    "Functions are blocks of reusable code that perform a specific task. They help in organizing code and making it more modular.\n",
    "\n",
    "### Defining Functions\n",
    "You can define a function using the def keyword, followed by the function name and parentheses."
   ]
  },
  {
   "cell_type": "code",
   "execution_count": 30,
   "id": "6f350a7c-25d4-412a-ae53-69dd21940cb7",
   "metadata": {},
   "outputs": [
    {
     "name": "stdout",
     "output_type": "stream",
     "text": [
      "Hello, World!\n"
     ]
    }
   ],
   "source": [
    "# Defining a function\n",
    "def greet(name):\n",
    "    return f\"Hello, {name}!\"\n",
    "\n",
    "# Calling the function\n",
    "print(greet(\"World\"))\n"
   ]
  },
  {
   "cell_type": "code",
   "execution_count": null,
   "id": "2f65e488-26e4-4911-8ff8-53a972596139",
   "metadata": {},
   "outputs": [],
   "source": []
  }
 ],
 "metadata": {
  "kernelspec": {
   "display_name": "Python 3 (ipykernel)",
   "language": "python",
   "name": "python3"
  },
  "language_info": {
   "codemirror_mode": {
    "name": "ipython",
    "version": 3
   },
   "file_extension": ".py",
   "mimetype": "text/x-python",
   "name": "python",
   "nbconvert_exporter": "python",
   "pygments_lexer": "ipython3",
   "version": "3.11.6"
  }
 },
 "nbformat": 4,
 "nbformat_minor": 5
}
